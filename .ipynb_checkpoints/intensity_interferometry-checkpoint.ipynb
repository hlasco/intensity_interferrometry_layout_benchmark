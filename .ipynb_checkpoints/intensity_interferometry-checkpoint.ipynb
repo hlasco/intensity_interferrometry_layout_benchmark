{
 "cells": [
  {
   "cell_type": "markdown",
   "metadata": {},
   "source": [
    "# Intensity Interferometry"
   ]
  },
  {
   "cell_type": "markdown",
   "metadata": {},
   "source": [
    "Consider a pair of detectors, $a$ and $b$, measuring the intensity of a common (extended) source of light. The time correlation of both signals provides information on the spatial distribution of the source.\n",
    "\n",
    "$$\\left<I_a(t)I_b(t)\\right>_{\\tau}=\\frac{1}{\\tau}\\int_t^{t+\\tau}\\mathrm{d}t'I_a(t')I_b(t'),$$\n",
    "\n",
    "where $\\tau$ is the integration time of the correlator."
   ]
  },
  {
   "cell_type": "markdown",
   "metadata": {},
   "source": [
    "Denoting $\\mathbf{r}$ the baseline--the relative distance between a pair of detectors--the intensity correlation can be written:\n",
    "\n",
    "$$\\left<I_a(t)I_b(t)\\right>_{\\tau}(\\mathbf{r}) = \\left<I_a\\right>\\left<I_b\\right>(1+\\left|\\gamma_{12}(\\mathbf{r})\\right|^2),$$\n",
    "\n",
    "where $\\gamma_{12}(\\textbf{r})$ is directly related to the Fourier transform of the source density distribution.\n",
    "\n",
    "Here, we investigate the signal measured observed for an elliptic source, using a pair of telescope with an arbitrary baseline."
   ]
  },
  {
   "cell_type": "code",
   "execution_count": null,
   "metadata": {},
   "outputs": [],
   "source": [
    "%load_ext autoreload\n",
    "%autoreload 2"
   ]
  },
  {
   "cell_type": "code",
   "execution_count": null,
   "metadata": {},
   "outputs": [],
   "source": [
    "import importlib\n",
    "import II\n",
    "from II import *\n",
    "import numpy as np\n",
    "import matplotlib.pyplot as plt\n",
    "from matplotlib.colors import LogNorm\n",
    "from matplotlib.colors import SymLogNorm"
   ]
  },
  {
   "cell_type": "code",
   "execution_count": null,
   "metadata": {},
   "outputs": [],
   "source": [
    "ls = II.LightSource(shape='ellipse')\n",
    "uv = II.UVplane(ls)"
   ]
  },
  {
   "cell_type": "code",
   "execution_count": null,
   "metadata": {},
   "outputs": [],
   "source": [
    "uv.plotSource()"
   ]
  },
  {
   "cell_type": "code",
   "execution_count": null,
   "metadata": {},
   "outputs": [],
   "source": [
    "detector = II.TelescopeArray(uv,layout='layouts/cta_only_04m/', nGrid=64, nPerTraj=128)"
   ]
  },
  {
   "cell_type": "code",
   "execution_count": null,
   "metadata": {},
   "outputs": [],
   "source": [
    "detector.setGrids()"
   ]
  },
  {
   "cell_type": "code",
   "execution_count": null,
   "metadata": {},
   "outputs": [],
   "source": [
    "def plotSNR(detector):\n",
    "    x = np.linspace(-detector.bline_max, detector.bline_max, detector.N_snr_grid)\n",
    "    y = np.linspace(-detector.bline_max, detector.bline_max, detector.N_snr_grid)\n",
    "    xx, yy = np.meshgrid(x, y)\n",
    "    snr = detector.getSNRGrid()\n",
    "    plt.figure(figsize=(10, 8))\n",
    "    plt.pcolormesh(xx ,yy , snr.T, norm=LogNorm(), label='SNR')\n",
    "    plt.xlabel(r'$\\lambda \\cdot u$ [m]', fontsize = 14)\n",
    "    plt.ylabel(r'$\\lambda \\cdot v$ [m]', fontsize = 14)\n",
    "    cb = plt.colorbar()\n",
    "    cb.ax.tick_params(labelsize=14)\n",
    "    cb.set_label('SNR', fontsize=16)\n",
    "    plt.tick_params(labelsize=14)\n",
    "    plt.title(detector.layout, fontsize=15)\n",
    "    "
   ]
  },
  {
   "cell_type": "code",
   "execution_count": null,
   "metadata": {},
   "outputs": [],
   "source": [
    "plotSNR(detector)"
   ]
  },
  {
   "cell_type": "code",
   "execution_count": null,
   "metadata": {},
   "outputs": [],
   "source": [
    "import emcee\n",
    "\n",
    "def log_likelihood(phi, detector, signal, time, std):\n",
    "    model, _ = detector.getSignal(nNights = time, phi_source = phi, bNoise=False)\n",
    "    mask = (std > 0 )\n",
    "    \n",
    "    obs = signal[mask]\n",
    "    exp = model[mask]\n",
    "    std_ = std[mask]\n",
    "    \n",
    "    ret =  -.5*np.sum((obs - exp)**2 / std_**2 + np.log(2*np.pi*std_**2))\n",
    "    return ret\n",
    "\n",
    "def log_prior(phi): #prior for rp is flat around rp_true with + and - 20x error on rp_true\n",
    "    phi_range = -np.pi/4 < phi < np.pi/4\n",
    "    if phi_range:\n",
    "        return 0.0\n",
    "    return -np.inf\n",
    "\n",
    "def log_probability(phi, detector, signal, time, std):\n",
    "    lp = log_prior(phi)\n",
    "    return lp + log_likelihood(phi, detector, signal, time, std)\n",
    "\n",
    "def run_mcmc(detector, time, phi_source, n_walkers=4, steps=1000):\n",
    "    pos = np.array([[np.random.uniform(-np.pi/4, np.pi/4)] for k in range(n_walkers)])\n",
    "    nwalkers, ndim = pos.shape\n",
    "    signal, std = detector.getSignal(nNights = time, phi_source = phi_source, bNoise=True)\n",
    "    \n",
    "    sampler = emcee.EnsembleSampler(nwalkers, ndim, log_probability, args=(detector, signal, time, std))\n",
    "    sampler.run_mcmc(pos, steps, progress=True)\n",
    "\n",
    "    return sampler"
   ]
  },
  {
   "cell_type": "code",
   "execution_count": null,
   "metadata": {},
   "outputs": [],
   "source": [
    "def run_benchmark(detector, time, phi_source, steps, n_walkers):\n",
    "    sampler = run_mcmc(detector, time=time, phi_source=phi_source, n_walkers = n_walkers, steps=steps)\n",
    "    return sampler"
   ]
  },
  {
   "cell_type": "code",
   "execution_count": null,
   "metadata": {},
   "outputs": [],
   "source": [
    "detector1 = II.TelescopeArray(uv,layout='layouts/cta_only_04m/', nGrid=64, nPerTraj=128)\n",
    "detector1.setGrids()\n",
    "detector2 = II.TelescopeArray(uv,layout='layouts/basic_cta/', nGrid=64, nPerTraj=128)\n",
    "detector2.setGrids()"
   ]
  },
  {
   "cell_type": "code",
   "execution_count": null,
   "metadata": {},
   "outputs": [],
   "source": [
    "plotSNR(detector1)\n",
    "plotSNR(detector2)"
   ]
  },
  {
   "cell_type": "code",
   "execution_count": null,
   "metadata": {},
   "outputs": [],
   "source": [
    "sampler1 = run_benchmark(detector1, time=10, phi_source=0, steps=100, n_walkers=4)\n",
    "sampler2 = run_benchmark(detector2, time=10, phi_source=0, steps=100, n_walkers=4)"
   ]
  },
  {
   "cell_type": "code",
   "execution_count": null,
   "metadata": {},
   "outputs": [],
   "source": [
    "samples1 = sampler1.get_chain(discard=10)\n",
    "samples2 = sampler2.get_chain(discard=10)\n",
    "\n",
    "\n",
    "plt.plot(samples1[:,:,0]*180/np.pi, alpha=0.7, color='C0')\n",
    "plt.plot(samples2[:,:,0]*180/np.pi, alpha=0.7, color='C1')\n",
    "plt.show()\n",
    "\n",
    "flat_samples1 = sampler1.get_chain(discard=50, thin=1, flat=True)\n",
    "flat_samples2 = sampler2.get_chain(discard=50, thin=1, flat=True)\n",
    "h1 = plt.hist(flat_samples1*180/np.pi, bins=20, density=True, alpha=.3, label='layout1')\n",
    "h2 = plt.hist(flat_samples2*180/np.pi, bins=20, density=True, alpha=.3, label='layout2')\n",
    "plt.legend()\n",
    "plt.show()"
   ]
  },
  {
   "cell_type": "code",
   "execution_count": null,
   "metadata": {},
   "outputs": [],
   "source": []
  }
 ],
 "metadata": {
  "kernelspec": {
   "display_name": "Python 3",
   "language": "python",
   "name": "python3"
  },
  "language_info": {
   "codemirror_mode": {
    "name": "ipython",
    "version": 3
   },
   "file_extension": ".py",
   "mimetype": "text/x-python",
   "name": "python",
   "nbconvert_exporter": "python",
   "pygments_lexer": "ipython3",
   "version": "3.8.5"
  }
 },
 "nbformat": 4,
 "nbformat_minor": 2
}
