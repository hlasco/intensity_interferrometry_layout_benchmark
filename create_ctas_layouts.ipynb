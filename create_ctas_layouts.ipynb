{
 "cells": [
  {
   "cell_type": "code",
   "execution_count": null,
   "metadata": {},
   "outputs": [],
   "source": [
    "from astropy.io import ascii\n",
    "from astropy.table import Table\n",
    "import matplotlib.pyplot as plt\n",
    "import numpy as np\n",
    "import glob\n",
    "import os"
   ]
  },
  {
   "cell_type": "markdown",
   "metadata": {},
   "source": [
    "The \"layouts/prod5_layouts/CTAS_ArrayElements_Position_corsika.txt\" file contains (in corsika format, so east/north are swapped) each telescope position. The different CTA-S layout files contain a list of telescopes with names, so we need to correlate the telescope names with their positions.\n",
    "\n",
    "This set of scripts export all layouts currently considered into the format used by the II library."
   ]
  },
  {
   "cell_type": "code",
   "execution_count": null,
   "metadata": {},
   "outputs": [],
   "source": [
    "def extract_telescope_locations(layout_name, plot=False):\n",
    "    reference_positions = ascii.read(\"layouts/prod5_layouts/CTAS_ArrayElements_Position_corsika.txt\")\n",
    "    tel_list = ascii.read(\"layouts/prod5_layouts/CTA.prod5S-{}-13MSTs40SSTs-MSTF.lis\".format(layout_name))\n",
    "    tel_name = []\n",
    "    tel_x = []\n",
    "    tel_y = []\n",
    "    for tel in tel_list['col5']:\n",
    "        if tel in reference_positions['telescope_name']:\n",
    "            entry = reference_positions[np.where(tel == reference_positions['telescope_name'])]\n",
    "            tel_name.append(tel)\n",
    "            tel_x.append(entry['pos_x'])\n",
    "            tel_y.append(entry['pos_y'])\n",
    "    table = Table()\n",
    "    table.meta['layout_name'] = layout_name\n",
    "    table['telescope_name'] = tel_name\n",
    "    table['telescope_name'] = tel_name\n",
    "    table['pos_x'] = tel_y    \n",
    "    table['pos_y'] = tel_x\n",
    "    if plot:\n",
    "        draw_array(table)\n",
    "    return table\n",
    "\n",
    "def draw_array(layout):\n",
    "    lst_mask = ['L' in s for s in layout['telescope_name']]\n",
    "    mst_mask = ['M' in s for s in layout['telescope_name']]\n",
    "    sst_mask = ['S' in s for s in layout['telescope_name']]\n",
    "    fig = plt.figure(figsize=[7,7])\n",
    "    if np.sum(lst_mask) > 0:\n",
    "        print(\"The layout contains {} LSTs\".format(np.sum(lst_mask)))\n",
    "        plt.plot(layout['pos_x'][lst_mask], layout['pos_y'][lst_mask], 'o', markersize=12, label=\"LSTs\")\n",
    "    if np.sum(mst_mask) > 0:\n",
    "        print(\"The layout contains {} MSTs\".format(np.sum(mst_mask)))\n",
    "        plt.plot(layout['pos_x'][mst_mask], layout['pos_y'][mst_mask], 'o', markersize=8, label=\"MSTs\")\n",
    "    if np.sum(sst_mask) > 0:\n",
    "        print(\"The layout contains {} SSTs\".format(np.sum(sst_mask)))\n",
    "        plt.plot(layout['pos_x'][sst_mask], layout['pos_y'][sst_mask], 's', markersize=8, label=\"SSTs\")\n",
    "    plt.legend()\n",
    "    plt.xlim([-1500, 1500])\n",
    "    plt.ylim([-1500, 1500])\n",
    "    plt.xlabel('West -> East direction [m]')\n",
    "    plt.ylabel('South -> North direction [m]')\n",
    "    plt.title('CTA-S layout {}'.format(layout.meta['layout_name']))\n",
    "    plt.show()\n",
    "    \n",
    "def draw_array_axis(layout_name, axs, x_label=False, y_label=False):\n",
    "    layout = extract_telescope_locations(layout_name, plot=False)\n",
    "    lst_mask = ['L' in s for s in layout['telescope_name']]\n",
    "    mst_mask = ['M' in s for s in layout['telescope_name']]\n",
    "    sst_mask = ['S' in s for s in layout['telescope_name']]\n",
    "    if np.sum(lst_mask) > 0:\n",
    "        print(\"The layout contains {} LSTs\".format(np.sum(lst_mask)))\n",
    "        axs.plot(layout['pos_x'][lst_mask], layout['pos_y'][lst_mask], 'o', markersize=12, label=\"LSTs\")\n",
    "    if np.sum(mst_mask) > 0:\n",
    "        print(\"The layout contains {} MSTs\".format(np.sum(mst_mask)))\n",
    "        axs.plot(layout['pos_x'][mst_mask], layout['pos_y'][mst_mask], 'o', markersize=8, label=\"MSTs\")\n",
    "    if np.sum(sst_mask) > 0:\n",
    "        print(\"The layout contains {} SSTs\".format(np.sum(sst_mask)))\n",
    "        axs.plot(layout['pos_x'][sst_mask], layout['pos_y'][sst_mask], 's', markersize=8, label=\"SSTs\")\n",
    "    axs.legend()\n",
    "    axs.set_xlim([-1600, 1600])\n",
    "    axs.set_ylim([-1600, 1600])\n",
    "    axs.grid(True)\n",
    "    if x_label:\n",
    "        axs.set_xlabel('West -> East direction [m]')\n",
    "    if y_label:\n",
    "        axs.set_ylabel('South -> North direction [m]')\n",
    "    axs.set_title('CTA-S layout {}'.format(layout.meta['layout_name']))\n",
    "    \n",
    "\n",
    "def write_array(layout):\n",
    "    if not os.path.exists('layouts/{}'.format(layout.meta['layout_name'])):\n",
    "        os.mkdir('layouts/{}'.format(layout.meta['layout_name']))\n",
    "\n",
    "    lst_mask = ['L' in s for s in layout['telescope_name']]\n",
    "    mst_mask = ['M' in s for s in layout['telescope_name']]\n",
    "    sst_mask = ['S' in s for s in layout['telescope_name']]\n",
    "    \n",
    "    if np.sum(lst_mask) > 0:\n",
    "        with open('layouts/{}/23m_telescope.csv'.format(layout.meta['layout_name']), 'w') as the_file:\n",
    "            for entry in layout[lst_mask]:\n",
    "                the_file.write('{:4.2f}, {:4.2f}\\n'.format(entry['pos_x'][0], entry['pos_y'][0]))  \n",
    "    if np.sum(mst_mask) > 0:\n",
    "        with open('layouts/{}/12m_telescope.csv'.format(layout.meta['layout_name']), 'w') as the_file:\n",
    "            for entry in layout[mst_mask]:\n",
    "                the_file.write('{:4.2f}, {:4.2f}\\n'.format(entry['pos_x'][0], entry['pos_y'][0])) \n",
    "    if np.sum(sst_mask) > 0:\n",
    "        with open('layouts/{}/04m_telescope.csv'.format(layout.meta['layout_name']), 'w') as the_file:\n",
    "            for entry in layout[sst_mask]:\n",
    "                the_file.write('{:4.2f}, {:4.2f}\\n'.format(entry['pos_x'][0], entry['pos_y'][0])) \n",
    "    print('The layout was written into the \"layouts/{}\" folder'.format(layout.meta['layout_name']))"
   ]
  },
  {
   "cell_type": "code",
   "execution_count": null,
   "metadata": {},
   "outputs": [],
   "source": [
    "def export_all_layouts():\n",
    "    layouts = ['M5C3', 'M5C5', 'M5C5f', 'M5C5g', 'M5C5h', 'M5D1a', 'M5D1af', 'M5D1ag', 'M5D1ah']\n",
    "    for layout_name in layouts:\n",
    "        layout = extract_telescope_locations(layout_name, plot=True)\n",
    "        write_array(layout)"
   ]
  },
  {
   "cell_type": "code",
   "execution_count": null,
   "metadata": {
    "scrolled": false
   },
   "outputs": [],
   "source": [
    "export_all_layouts()"
   ]
  },
  {
   "cell_type": "code",
   "execution_count": null,
   "metadata": {},
   "outputs": [],
   "source": [
    "def plot_all_layouts():\n",
    "    fig, ((ax1, ax2, ax3), (ax4, ax5, ax6), (ax7, ax8, ax9)) = plt.subplots(3, 3, figsize=[14,14])\n",
    "    layouts = ['M5C3', 'M5C5', 'M5C5f', 'M5C5g', 'M5C5h', 'M5D1a', 'M5D1af', 'M5D1ag', 'M5D1ah']\n",
    "    fig.suptitle('CTA-S layouts currently considered.')\n",
    "    draw_array_axis(layouts[0], ax1, y_label=True)\n",
    "    draw_array_axis(layouts[1], ax2)\n",
    "    draw_array_axis(layouts[2], ax3)\n",
    "    draw_array_axis(layouts[3], ax4, y_label=True)\n",
    "    draw_array_axis(layouts[4], ax5)\n",
    "    draw_array_axis(layouts[5], ax6)\n",
    "    draw_array_axis(layouts[6], ax7, y_label=True, x_label=True)\n",
    "    draw_array_axis(layouts[7], ax8, x_label=True)\n",
    "    draw_array_axis(layouts[8], ax9, x_label=True)\n",
    "    plt.show()\n",
    "    "
   ]
  },
  {
   "cell_type": "code",
   "execution_count": null,
   "metadata": {},
   "outputs": [],
   "source": [
    "plot_all_layouts()"
   ]
  },
  {
   "cell_type": "code",
   "execution_count": null,
   "metadata": {},
   "outputs": [],
   "source": []
  }
 ],
 "metadata": {
  "kernelspec": {
   "display_name": "Python 3",
   "language": "python",
   "name": "python3"
  },
  "language_info": {
   "codemirror_mode": {
    "name": "ipython",
    "version": 3
   },
   "file_extension": ".py",
   "mimetype": "text/x-python",
   "name": "python",
   "nbconvert_exporter": "python",
   "pygments_lexer": "ipython3",
   "version": "3.8.5"
  }
 },
 "nbformat": 4,
 "nbformat_minor": 4
}
